{
 "cells": [
  {
   "cell_type": "code",
   "execution_count": 1,
   "id": "e3c11d61-d99e-4885-99af-5b8674893517",
   "metadata": {},
   "outputs": [],
   "source": [
    "import os\n",
    "from dotenv import load_dotenv, find_dotenv\n",
    "_ = load_dotenv(find_dotenv())\n",
    "openai_api_key = os.environ[\"OPENAI_API_KEY\"]"
   ]
  },
  {
   "cell_type": "code",
   "execution_count": 3,
   "id": "d4370780-4459-4437-8c5c-53a05a861232",
   "metadata": {},
   "outputs": [],
   "source": [
    "from langchain_openai import OpenAI"
   ]
  },
  {
   "cell_type": "code",
   "execution_count": 4,
   "id": "e8fb4007-b709-4659-8e49-67927dd0e42e",
   "metadata": {},
   "outputs": [],
   "source": [
    "from langchain.prompts.prompt import PromptTemplate"
   ]
  },
  {
   "cell_type": "code",
   "execution_count": 5,
   "id": "b2735aeb-3b0e-4368-8ba3-31e716115129",
   "metadata": {},
   "outputs": [],
   "source": [
    "my_template = \"\"\"\n",
    "Classify the sentiment of this review.\n",
    "Sentiment: Is this review positive, negative or neutral?\n",
    "\n",
    "Review:{review}\n",
    "\"\"\""
   ]
  },
  {
   "cell_type": "code",
   "execution_count": 6,
   "id": "7ab12003-e52a-4082-b543-5e3b12c49987",
   "metadata": {},
   "outputs": [],
   "source": [
    "llm=OpenAI()"
   ]
  },
  {
   "cell_type": "code",
   "execution_count": 7,
   "id": "58600ff2-73b0-41c8-9160-4b4b5ed4a517",
   "metadata": {},
   "outputs": [],
   "source": [
    "my_prompt=PromptTemplate(\n",
    "    template=my_template,\n",
    "    input_variables=[\"review\"]\n",
    ")"
   ]
  },
  {
   "cell_type": "code",
   "execution_count": 8,
   "id": "1a521145-35ac-41b5-b9fe-18e4f801edc2",
   "metadata": {},
   "outputs": [],
   "source": [
    "user_review=\"I love this course\""
   ]
  },
  {
   "cell_type": "code",
   "execution_count": 11,
   "id": "350f19af-a643-484d-b788-aa3c3f6d7c75",
   "metadata": {},
   "outputs": [],
   "source": [
    "final_prompt=my_prompt.format(review=user_review)"
   ]
  },
  {
   "cell_type": "code",
   "execution_count": 12,
   "id": "aa969b9e-4ede-4b62-886b-89011d90fbca",
   "metadata": {},
   "outputs": [
    {
     "name": "stderr",
     "output_type": "stream",
     "text": [
      "/Users/anshulvirmani/.pyenv/versions/3.11.4/envs/environmentname1/lib/python3.11/site-packages/langchain_core/_api/deprecation.py:117: LangChainDeprecationWarning: The function `__call__` was deprecated in LangChain 0.1.7 and will be removed in 0.2.0. Use invoke instead.\n",
      "  warn_deprecated(\n"
     ]
    },
    {
     "data": {
      "text/plain": [
       "'\\nPositive'"
      ]
     },
     "execution_count": 12,
     "metadata": {},
     "output_type": "execute_result"
    }
   ],
   "source": [
    "llm(final_prompt)"
   ]
  },
  {
   "cell_type": "code",
   "execution_count": 13,
   "id": "8141d96a-ca89-48d9-bc0a-d1a6b4620c4b",
   "metadata": {},
   "outputs": [
    {
     "name": "stdout",
     "output_type": "stream",
     "text": [
      "\n",
      "Positive\n"
     ]
    }
   ],
   "source": [
    "print(llm(final_prompt))"
   ]
  },
  {
   "cell_type": "code",
   "execution_count": null,
   "id": "1bf629cf-cbc9-44c3-a997-1598fb0fb2cb",
   "metadata": {},
   "outputs": [],
   "source": []
  }
 ],
 "metadata": {
  "kernelspec": {
   "display_name": "Python 3 (ipykernel)",
   "language": "python",
   "name": "python3"
  },
  "language_info": {
   "codemirror_mode": {
    "name": "ipython",
    "version": 3
   },
   "file_extension": ".py",
   "mimetype": "text/x-python",
   "name": "python",
   "nbconvert_exporter": "python",
   "pygments_lexer": "ipython3",
   "version": "3.11.4"
  }
 },
 "nbformat": 4,
 "nbformat_minor": 5
}
