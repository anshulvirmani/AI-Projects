{
 "cells": [
  {
   "cell_type": "code",
   "execution_count": 1,
   "id": "5483d0ce-6cb3-4c23-8e5d-06ddc455312a",
   "metadata": {},
   "outputs": [],
   "source": [
    "import os\n",
    "from dotenv import load_dotenv, find_dotenv\n",
    "_ = load_dotenv(find_dotenv())\n",
    "openai_api_key = os.environ[\"OPENAI_API_KEY\"]"
   ]
  },
  {
   "cell_type": "code",
   "execution_count": 3,
   "id": "46b3f8f7-012e-440b-a0f2-51af8b35b45b",
   "metadata": {},
   "outputs": [],
   "source": [
    "from langchain_openai import OpenAI"
   ]
  },
  {
   "cell_type": "code",
   "execution_count": 4,
   "id": "cad93493-a59d-476b-a99b-7d44718dbdd0",
   "metadata": {},
   "outputs": [],
   "source": [
    "llm=OpenAI()"
   ]
  },
  {
   "cell_type": "code",
   "execution_count": 6,
   "id": "6f8744a7-6a8d-4a67-925f-933615439e09",
   "metadata": {},
   "outputs": [],
   "source": [
    "from langchain.prompts.few_shot import FewShotPromptTemplate"
   ]
  },
  {
   "cell_type": "code",
   "execution_count": 9,
   "id": "5153d938-05e2-4ebd-ab54-914243aad433",
   "metadata": {},
   "outputs": [],
   "source": [
    "my_examples = [\n",
    "    {\n",
    "        \"review\": \"I love this course!\",\n",
    "        \"response\": \"sentiment: positive\" \n",
    "    },\n",
    "    {\n",
    "        \"review\": \"What a waste of time!\",\n",
    "        \"response\": \"sentiment: negative\" \n",
    "    },\n",
    "    {\n",
    "        \"review\": \"So so. Not so good.\",\n",
    "        \"response\": \"sentiment: neutral\" \n",
    "    },\n",
    "]"
   ]
  },
  {
   "cell_type": "code",
   "execution_count": 10,
   "id": "e3877315-be37-4095-a3f7-c7e9181b9872",
   "metadata": {},
   "outputs": [],
   "source": [
    "my_few_shot_template_ok = \"\"\"\n",
    "Classify the sentiment of this review.\n",
    "Sentiment: Is the review positive, neutral or negative?\n",
    "\n",
    "Review: {review}\n",
    "{response}\n",
    "\"\"\""
   ]
  },
  {
   "cell_type": "code",
   "execution_count": 11,
   "id": "cf32a1c5-92a8-47a6-a8a2-c688a81740c2",
   "metadata": {},
   "outputs": [
    {
     "ename": "NameError",
     "evalue": "name 'PromptTemplate' is not defined",
     "output_type": "error",
     "traceback": [
      "\u001b[0;31m---------------------------------------------------------------------------\u001b[0m",
      "\u001b[0;31mNameError\u001b[0m                                 Traceback (most recent call last)",
      "Cell \u001b[0;32mIn[11], line 1\u001b[0m\n\u001b[0;32m----> 1\u001b[0m example_prompt \u001b[38;5;241m=\u001b[39m \u001b[43mPromptTemplate\u001b[49m(\n\u001b[1;32m      2\u001b[0m      input_variables\u001b[38;5;241m=\u001b[39m[\u001b[38;5;124m\"\u001b[39m\u001b[38;5;124mreview\u001b[39m\u001b[38;5;124m\"\u001b[39m, \u001b[38;5;124m\"\u001b[39m\u001b[38;5;124mresponse\u001b[39m\u001b[38;5;124m\"\u001b[39m],\n\u001b[1;32m      3\u001b[0m      template\u001b[38;5;241m=\u001b[39mmy_few_shot_template_ok\n\u001b[1;32m      4\u001b[0m  )\n",
      "\u001b[0;31mNameError\u001b[0m: name 'PromptTemplate' is not defined"
     ]
    }
   ],
   "source": [
    "example_prompt = PromptTemplate(\n",
    "     input_variables=[\"review\", \"response\"],\n",
    "     template=my_few_shot_template_ok\n",
    " )"
   ]
  },
  {
   "cell_type": "code",
   "execution_count": null,
   "id": "3d4d5ab3-b37f-4224-9c6b-bf1fbbbdb4f6",
   "metadata": {},
   "outputs": [],
   "source": []
  }
 ],
 "metadata": {
  "kernelspec": {
   "display_name": "Python 3 (ipykernel)",
   "language": "python",
   "name": "python3"
  },
  "language_info": {
   "codemirror_mode": {
    "name": "ipython",
    "version": 3
   },
   "file_extension": ".py",
   "mimetype": "text/x-python",
   "name": "python",
   "nbconvert_exporter": "python",
   "pygments_lexer": "ipython3",
   "version": "3.11.4"
  }
 },
 "nbformat": 4,
 "nbformat_minor": 5
}
