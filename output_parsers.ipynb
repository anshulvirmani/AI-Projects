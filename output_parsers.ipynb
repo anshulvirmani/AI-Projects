{
 "cells": [
  {
   "cell_type": "code",
   "execution_count": 2,
   "id": "bc2f64b3-cabd-461f-b3eb-6354a080e239",
   "metadata": {},
   "outputs": [],
   "source": [
    "import os\n",
    "from dotenv import load_dotenv, find_dotenv\n",
    "_ = load_dotenv(find_dotenv())\n",
    "openai_api_key = os.environ[\"OPENAI_API_KEY\"]"
   ]
  },
  {
   "cell_type": "code",
   "execution_count": 3,
   "id": "5543a0c5-a911-4050-bf56-b514fd8fb731",
   "metadata": {},
   "outputs": [],
   "source": [
    "from langchain.prompts import PromptTemplate"
   ]
  },
  {
   "cell_type": "code",
   "execution_count": 4,
   "id": "dd6d4cb2-04e3-484a-99ae-037e8524c0cd",
   "metadata": {},
   "outputs": [],
   "source": [
    "from langchain.output_parsers import PydanticOutputParser"
   ]
  },
  {
   "cell_type": "code",
   "execution_count": 5,
   "id": "22bb58fa-2d5f-4da2-a473-8d5adf121982",
   "metadata": {},
   "outputs": [],
   "source": [
    "from langchain_core.pydantic_v1 import BaseModel, Field, validator"
   ]
  },
  {
   "cell_type": "code",
   "execution_count": 6,
   "id": "8ded947c-c522-41c9-ad0a-048c5cdb75b9",
   "metadata": {},
   "outputs": [],
   "source": [
    "from typing import List"
   ]
  },
  {
   "cell_type": "code",
   "execution_count": 7,
   "id": "20c47ef7-7fc3-4544-8ff0-0d3c5939eb86",
   "metadata": {},
   "outputs": [],
   "source": [
    "class Reviews_Desired_Output_Structure(BaseModel):\n",
    "    sentiment: List[str] = Field(\n",
    "        description=\"Is it positive or negative?\"\n",
    "    )\n",
    "    positive: List[str] = Field(\n",
    "        description=\"What is positively highlighted about the book in the review?\"\n",
    "    )\n",
    "    negative: List[str] = Field(\n",
    "        description=\"What is negatively highlighted about the book in the review?\"\n",
    "    )"
   ]
  },
  {
   "cell_type": "code",
   "execution_count": 8,
   "id": "480bbe90-8dfc-4f3c-a074-c40afa5adbd6",
   "metadata": {},
   "outputs": [],
   "source": [
    "output_parser = PydanticOutputParser(\n",
    "    pydantic_object=Reviews_Desired_Output_Structure\n",
    ")"
   ]
  },
  {
   "cell_type": "code",
   "execution_count": 9,
   "id": "9544245c-7772-430f-8544-1b312a93fff1",
   "metadata": {},
   "outputs": [],
   "source": [
    "template_for_desired_output_with_parser = \"\"\"\n",
    "Here is a book review: {book_review}.\n",
    "\n",
    "I want you to output three things about the review in a JSON dictionary:\n",
    "\n",
    "{format_instructions}\n",
    "\n",
    "\"sentiment\": Is it positive or negative?\n",
    "\"positive\": What is positively highlighted about the book in the review?\n",
    "\"negative\": What is negatively highlighted about the book in the review?\n",
    "\n",
    "\"\"\""
   ]
  },
  {
   "cell_type": "code",
   "execution_count": 10,
   "id": "487a89cc-2a94-43b2-a9cb-a5007b1315e5",
   "metadata": {},
   "outputs": [],
   "source": [
    "prompt_template_with_parser = PromptTemplate(\n",
    "    template=template_for_desired_output_with_parser,\n",
    "    input_variables=[\"book_review\"],\n",
    "    partial_variables={\n",
    "        \"format_instructions\": output_parser.get_format_instructions()\n",
    "    }\n",
    ")"
   ]
  },
  {
   "cell_type": "code",
   "execution_count": 12,
   "id": "b1658c7a-dd08-46b3-8a74-3952646644cc",
   "metadata": {},
   "outputs": [],
   "source": [
    "user_input=\"this book is amazing. the character arc was great. the way the character evolves from a good person to a very bad person is very interesting\""
   ]
  },
  {
   "cell_type": "code",
   "execution_count": 15,
   "id": "0b14da24-ebe1-49a1-84cd-3a07cf4c5341",
   "metadata": {},
   "outputs": [],
   "source": [
    "question = prompt_template_with_parser.format(book_review=user_input)"
   ]
  },
  {
   "cell_type": "code",
   "execution_count": 17,
   "id": "6b66d6d4-649e-4b0d-8f49-9879fa35cc85",
   "metadata": {},
   "outputs": [
    {
     "name": "stderr",
     "output_type": "stream",
     "text": [
      "/Users/anshulvirmani/.pyenv/versions/3.11.4/envs/environmentname1/lib/python3.11/site-packages/langchain_core/_api/deprecation.py:117: LangChainDeprecationWarning: The function `__call__` was deprecated in LangChain 0.1.7 and will be removed in 0.2.0. Use invoke instead.\n",
      "  warn_deprecated(\n"
     ]
    }
   ],
   "source": [
    "from langchain_openai import OpenAI\n",
    "llm=OpenAI()\n",
    "response = llm(question)"
   ]
  },
  {
   "cell_type": "code",
   "execution_count": 18,
   "id": "a1cde614-7a02-4d24-ab46-2a75e50e2e28",
   "metadata": {},
   "outputs": [],
   "source": [
    "formatted_output = output_parser.parse(response)"
   ]
  },
  {
   "cell_type": "code",
   "execution_count": 19,
   "id": "fde0754e-d059-4ca7-a700-494525f212dc",
   "metadata": {},
   "outputs": [
    {
     "name": "stdout",
     "output_type": "stream",
     "text": [
      "<class '__main__.Reviews_Desired_Output_Structure'>\n"
     ]
    }
   ],
   "source": [
    "print(type(formatted_output))"
   ]
  },
  {
   "cell_type": "code",
   "execution_count": 20,
   "id": "80064d50-459e-4e3f-81ee-81fa4456784f",
   "metadata": {},
   "outputs": [],
   "source": [
    "json_output = formatted_output.json()"
   ]
  },
  {
   "cell_type": "code",
   "execution_count": 21,
   "id": "ccef1d14-a034-4c6f-964c-2cab8627b657",
   "metadata": {},
   "outputs": [],
   "source": [
    "import json"
   ]
  },
  {
   "cell_type": "code",
   "execution_count": 22,
   "id": "c68d83a0-c7c6-468f-963a-ba036240323d",
   "metadata": {},
   "outputs": [],
   "source": [
    "python_dict = json.loads(json_output)"
   ]
  },
  {
   "cell_type": "code",
   "execution_count": 23,
   "id": "460dea40-a95f-4e19-ac36-6e75b245d3c2",
   "metadata": {},
   "outputs": [
    {
     "name": "stdout",
     "output_type": "stream",
     "text": [
      "{'sentiment': ['positive'], 'positive': ['amazing', 'great', 'interesting'], 'negative': ['bad']}\n"
     ]
    }
   ],
   "source": [
    "print(python_dict)"
   ]
  },
  {
   "cell_type": "code",
   "execution_count": 24,
   "id": "2430b5a6-4722-42e7-837b-dfb88451148f",
   "metadata": {},
   "outputs": [
    {
     "name": "stdout",
     "output_type": "stream",
     "text": [
      "<class 'dict'>\n"
     ]
    }
   ],
   "source": [
    "print(type(python_dict))"
   ]
  },
  {
   "cell_type": "code",
   "execution_count": null,
   "id": "c0e8b9d5-bf8e-4b67-8920-ef75b956a4ff",
   "metadata": {},
   "outputs": [],
   "source": []
  }
 ],
 "metadata": {
  "kernelspec": {
   "display_name": "Python 3 (ipykernel)",
   "language": "python",
   "name": "python3"
  },
  "language_info": {
   "codemirror_mode": {
    "name": "ipython",
    "version": 3
   },
   "file_extension": ".py",
   "mimetype": "text/x-python",
   "name": "python",
   "nbconvert_exporter": "python",
   "pygments_lexer": "ipython3",
   "version": "3.11.4"
  }
 },
 "nbformat": 4,
 "nbformat_minor": 5
}
