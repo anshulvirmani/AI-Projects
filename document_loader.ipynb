{
 "cells": [
  {
   "cell_type": "code",
   "execution_count": 1,
   "id": "b07a80a5-52f9-48e8-98b8-83a7a7033e85",
   "metadata": {},
   "outputs": [],
   "source": [
    "import os\n",
    "from dotenv import load_dotenv, find_dotenv\n",
    "_ = load_dotenv(find_dotenv())\n",
    "openai_api_key = os.environ[\"OPENAI_API_KEY\"]"
   ]
  },
  {
   "cell_type": "code",
   "execution_count": 3,
   "id": "f22da20e-19e1-41d8-9daf-e46d28a77260",
   "metadata": {},
   "outputs": [],
   "source": [
    "from langchain.document_loaders import PyPDFLoader\n"
   ]
  },
  {
   "cell_type": "code",
   "execution_count": 4,
   "id": "83efbf81-f3b9-410c-b23d-7ded610443aa",
   "metadata": {},
   "outputs": [],
   "source": [
    "loader = PyPDFLoader(\"data/Anshul_Virmani.pdf\")\n",
    "pages = loader.load()"
   ]
  },
  {
   "cell_type": "code",
   "execution_count": 5,
   "id": "5b588287-b65d-40ee-a135-3a472f797e1c",
   "metadata": {},
   "outputs": [
    {
     "data": {
      "text/plain": [
       "2"
      ]
     },
     "execution_count": 5,
     "metadata": {},
     "output_type": "execute_result"
    }
   ],
   "source": [
    "len(pages)"
   ]
  },
  {
   "cell_type": "code",
   "execution_count": 6,
   "id": "b8a3962a-f68c-42b9-94c7-31da143d9221",
   "metadata": {},
   "outputs": [],
   "source": [
    "page = pages[0]"
   ]
  },
  {
   "cell_type": "code",
   "execution_count": 7,
   "id": "118b5e06-5327-4c20-ab24-ff859b1ca998",
   "metadata": {},
   "outputs": [
    {
     "name": "stdout",
     "output_type": "stream",
     "text": [
      "Anshul Virmani\n",
      "L E A D  P R O D U C T  M A N A G E R \n",
      "Profile\n",
      "With 10 years of expertise in leading Product & Analytics, I specialize in developing \n",
      "and launching customer-facing products across areas such as retail e-commerce, \n",
      "travel and edtech. Drove digital transformation in customer engagement, significantly \n",
      "enhancing online transactions and omnichannel growth, aligning with goals to \n",
      "improve in-store journeys and checkout experiences.\n",
      "Work History\n",
      "Lead Product Manager, Accel backed ed-tec\n"
     ]
    }
   ],
   "source": [
    "print(page.page_content[0:500])"
   ]
  },
  {
   "cell_type": "code",
   "execution_count": 8,
   "id": "6b8f644f-0096-4b20-ba2b-fa9d642e030e",
   "metadata": {},
   "outputs": [
    {
     "data": {
      "text/plain": [
       "{'source': 'data/Anshul_Virmani.pdf', 'page': 0}"
      ]
     },
     "execution_count": 8,
     "metadata": {},
     "output_type": "execute_result"
    }
   ],
   "source": [
    "page.metadata"
   ]
  },
  {
   "cell_type": "code",
   "execution_count": 9,
   "id": "796a6e2e-f9ef-419b-b1a9-8552fbe8fd06",
   "metadata": {},
   "outputs": [],
   "source": [
    "from langchain.document_loaders import WebBaseLoader\n",
    "\n",
    "loader = WebBaseLoader(\"https://pixical.com/\")"
   ]
  },
  {
   "cell_type": "code",
   "execution_count": 10,
   "id": "b5bf77d5-e455-4d4a-a2e9-e8c129a1e954",
   "metadata": {},
   "outputs": [],
   "source": [
    "docs = loader.load()"
   ]
  },
  {
   "cell_type": "code",
   "execution_count": 11,
   "id": "4126bbad-f5ae-41a6-bb10-3abddbb773f7",
   "metadata": {},
   "outputs": [
    {
     "name": "stdout",
     "output_type": "stream",
     "text": [
      "\n"
     ]
    }
   ],
   "source": [
    "print(docs[0].page_content[:2000])"
   ]
  },
  {
   "cell_type": "code",
   "execution_count": null,
   "id": "c5fbfd9f-b8a7-4250-9670-85d211d51c67",
   "metadata": {},
   "outputs": [],
   "source": []
  }
 ],
 "metadata": {
  "kernelspec": {
   "display_name": "Python 3 (ipykernel)",
   "language": "python",
   "name": "python3"
  },
  "language_info": {
   "codemirror_mode": {
    "name": "ipython",
    "version": 3
   },
   "file_extension": ".py",
   "mimetype": "text/x-python",
   "name": "python",
   "nbconvert_exporter": "python",
   "pygments_lexer": "ipython3",
   "version": "3.11.4"
  }
 },
 "nbformat": 4,
 "nbformat_minor": 5
}
